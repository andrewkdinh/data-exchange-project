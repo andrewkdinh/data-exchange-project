{
 "cells": [
  {
   "cell_type": "code",
   "execution_count": 1,
   "metadata": {},
   "outputs": [],
   "source": [
    "\"\"\"This is essentially the same as my denero non-61a review script applied to any \n",
    "ratemyprofessors page and any course filter (ex: sahai's page -> 189 reviews,\n",
    "or sahai's page -> non 189 and non 16a reviews)\"\"\"\n",
    "#import requests \n",
    "from bs4 import BeautifulSoup as bs\n",
    "import re\n",
    "from selenium import webdriver\n",
    "from selenium.webdriver.common.desired_capabilities import DesiredCapabilities\n",
    "from selenium.webdriver.common.by import By\n",
    "from selenium.webdriver.support import expected_conditions as EC\n",
    "from selenium.webdriver.support.ui import WebDriverWait\n",
    "#PATH = r'C:\\\\Program Files (x86)\\\\chromedriver.exe'\n",
    "PATH = r'C:\\Users\\jsonn\\Documents\\Python\\selenium\\chromedriver.exe' #needed to put r to not get unicode error, this line is from that youtube tutorial\n",
    "#the path is where I put the chromedriver app thingie\n",
    "\n",
    "def create_driver(headless=True, implicit_wait=2):\n",
    "    \"\"\"\n",
    "    opts = webdriver.chrome.options.Options()\n",
    "    opts.headless = headless\n",
    "    driver = webdriver.Remote(\n",
    "        command_executor='http://127.0.0.1:3928/wd/hub',\n",
    "        desired_capabilities=DesiredCapabilities.CHROME, \n",
    "        options=opts)\n",
    "    driver.implicitly_wait(2)\n",
    "    \"\"\"\n",
    "    opts = webdriver.chrome.options.Options()# changed from firefox to chrome \n",
    "    opts.headless = headless\n",
    "    #driver = webdriver.Chrome(options=opts)\n",
    "    driver = webdriver.Chrome(PATH)\n",
    "    driver.implicitly_wait(implicit_wait)\n",
    "    return driver"
   ]
  },
  {
   "cell_type": "code",
   "execution_count": 8,
   "metadata": {},
   "outputs": [
    {
     "name": "stdout",
     "output_type": "stream",
     "text": [
      "paste link: https://www.ratemyprofessors.com/ShowRatings.jsp?tid=2369550\n"
     ]
    }
   ],
   "source": [
    "url = input(\"paste link: \")\n",
    "driver = create_driver(headless=False)\n",
    "driver.get(url)\n",
    "# Click cookie button\n",
    "button = WebDriverWait(driver, 5).until(EC.element_to_be_clickable((By.CLASS_NAME, \"FullPageModal__StyledCloseButton-sc-17feuxe-1\")))\n",
    "driver.execute_script(\"arguments[0].click();\", button)\n",
    "\n",
    "try:\n",
    "    while True:\n",
    "        button = WebDriverWait(driver, 2).until(EC.element_to_be_clickable((By.CLASS_NAME, \"Buttons__BlackButton-sc-19xdot-1\")))\n",
    "        driver.execute_script(\"arguments[0].click();\", button)\n",
    "except:\n",
    "    pass\n",
    "\n",
    "professor_soup = bs(driver.page_source, \"html.parser\")\n",
    "driver.quit()"
   ]
  },
  {
   "cell_type": "code",
   "execution_count": 9,
   "metadata": {},
   "outputs": [
    {
     "name": "stdout",
     "output_type": "stream",
     "text": [
      "Choose the kind of filter you want. If you want a specific class(es), enter course number(s) (i.e. CS61A) one at a time, and enter 'done' when complete. If you want to filter OUT a course(s), just press enter for now: \n",
      "Execute next cell.\n"
     ]
    }
   ],
   "source": [
    "filter_type = input(\"Choose the kind of filter you want. If you want a specific class(es), enter course number(s) (i.e. CS61A) one at a time, and enter 'done' when complete. If you want to filter OUT a course(s), just press enter for now: \")\n",
    "\n",
    "if filter_type: #they need to put in the whole course name, and potentially other names that it might go by\n",
    "    courses_wanted = [filter_type.upper()]\n",
    "    while filter_type != \"done\":\n",
    "        filter_type = input(\"choose another course. Enter 'done' when complete: \")\n",
    "        courses_wanted.append(filter_type.upper())\n",
    "    courses_wanted.pop() #gets rid of done, this doesn't really matter unless there's actually a course called done\n",
    "print('Execute next cell.')"
   ]
  },
  {
   "cell_type": "code",
   "execution_count": 10,
   "metadata": {},
   "outputs": [
    {
     "name": "stdout",
     "output_type": "stream",
     "text": [
      "Execute next cell.\n"
     ]
    }
   ],
   "source": [
    "course_names = professor_soup.find_all(\"div\",\"RatingHeader__StyledClass-sc-1dlkqw1-2 hBbYdP\")\n",
    "names = [name.string for name in course_names][::2]\n",
    "course_reviews = professor_soup.find_all(\"div\", \"Comments__StyledComments-dzzyvm-0 dEfjGB\")\n",
    "reviews = [review.string for review in course_reviews][1:] #we don't want most helpful rating because it's repeated \n",
    "\n",
    "#print(len(names), len(reviews)) i need to figure out why reviews is half the length of names \n",
    "#the length of names is resolved. the source code for some reason had stuff listed twice\n",
    "\n",
    "course_ratings_difficulty = professor_soup.find_all(\"div\", re.compile(\"RatingValues__RatingValue-sc-6dc747-3\"))\n",
    "#ratingvalues with 747-3 are course rating and difficulty\n",
    "ratings, difficulties = [rating.string for rating in course_ratings_difficulty[::2]], [difficulty.string for difficulty in course_ratings_difficulty[1::2]]\n",
    "print(\"Execute next cell.\")"
   ]
  },
  {
   "cell_type": "code",
   "execution_count": 11,
   "metadata": {},
   "outputs": [],
   "source": [
    "divs_soup = professor_soup.find_all(\"div\", \"CourseMeta__StyledCourseMeta-x344ms-0\")\n",
    "divs = [div.text for div in divs_soup]\n",
    "grades_list = []\n",
    "grading_scale = {4.0:'A',\n",
    "                    3.7: 'A-',\n",
    "                    3.3: 'B+',\n",
    "                     3.0: 'B',\n",
    "                    2.7: 'B-',\n",
    "                    2.3: 'C+',\n",
    "                    2: 'C',\n",
    "                    1.7:'C-',\n",
    "                    1.3:'D+',\n",
    "                     1:'D',\n",
    "                     0.7:'D-',\n",
    "                    0:'F'}\n",
    "reversed_scale = {letter:num for num, letter in grading_scale.items()}\n",
    "\n",
    "def average_grade(grades):\n",
    "    \"\"\"given a list of grades as numbers (i.e. A is a 4) returns the average grade as a letter.\n",
    "    This function rounds down.\n",
    "    average_grade([4.3,2.3,4,3.7,3.3]), where the mean is 3.52, rounds up to an A-\n",
    "    average_grade([4,3,3,4,4,2.7]), where the mean is 3.449, rounds down to a b+\"\"\"\n",
    "    number_grade = round(sum(grades) / len(grades), 1)\n",
    "    for grade in grading_scale:\n",
    "        if number_grade >= grade -.2: #starts with a, so if the average grade is >= 3.8\n",
    "            return grading_scale[grade]\n",
    "        \n",
    "def grade_to_number(letter):\n",
    "    if letter == \"A+\": #this is not really right but it's fine, there's no difference between the two\n",
    "        letter = \"A\"\n",
    "    return reversed_scale[letter]\n",
    "\n",
    "\"\"\"make grades list\"\"\"\n",
    "def grade_isolator(line, grades):\n",
    "    if \"Grade\" in line:\n",
    "        parts = line.split(\"Grade: \") \n",
    "        moreparts = parts[1].split(\"Text\")\n",
    "        grades.append(moreparts[0])\n",
    "    else:\n",
    "        grades.append('Z')  \n",
    "        \n",
    "\"\"\"get average grade\"\"\"\n",
    "def avg(grades):\n",
    "    glist = []\n",
    "    for grade in grades:\n",
    "        if grade in grading_scale.values() or grade == \"A+\":\n",
    "            glist.append(grade_to_number(grade))\n",
    "    return average_grade(glist) if glist else 0 #if there were no grades \n"
   ]
  },
  {
   "cell_type": "code",
   "execution_count": 12,
   "metadata": {
    "scrolled": true,
    "tags": [
     "outputPrepend"
    ]
   },
   "outputs": [
    {
     "name": "stdout",
     "output_type": "stream",
     "text": [
      "enter the course number(s) of the classes that you would NOT like to see. Press enter on blank when you're complete: \n",
      "EECS127\n",
      "Gireeja is one of the most caring professors I have met at Berkeley. However, she ought to prepare more for her lectures cause she does make quite a few mistakes that can be distracting and derail lecture for several minutes. I also wish she would be more transparent with her grading scheme. 3.0 3.0 \n",
      "\n",
      "EECS127\n",
      "Crystal clear lectures, fair tests, the right amount of homework. Overall a great class and she does a great job of teaching it. 5.0 4.0 \n",
      "\n",
      "EE16A\n",
      "Ranade is super eloquent, clear, and concise. She knows what she's talking about and is always ready to answer peoples questions. I think she's also encouraging. Sometimes lectures would get pretty boring, and I would recommend watching webcast if you prefer fast paced, as she speaks slowly (probably because this class is meant for freshmen). 5.0 4.0 \n",
      "\n",
      "EECS16A\n",
      "Amazing and very clear lectures! Prof Ranade is willing to help us outside of the class. She makes ee16a clear and easy for understanding. 5.0 3.0 \n",
      "\n",
      "EE16A\n",
      "Professor Ranade isn't the best lecturer (ironic, since she basically wrote the content of the course). Going in with no linear algebra or circuits experience was tough, but asking a TON of questions in discussion, reading supplemental texts and lecture notes, doing homework diligently, and going to office hours helped me succeed in this course. 3.0 4.0 \n",
      "\n",
      "EE16A\n",
      "I learned more about linear algebra and circuits from the notes and the optional texts assigned for the course. Going to lecture is absolutely worthless and the homework is unnecessarily long. You can get perfect scores on all the homework assignments but it all comes down to your performance on tests which are quite lengthy. 2.0 4.0 \n",
      "\n",
      "EE16A\n",
      "Lectures are clear, tests are fair, homework is difficult. There is clearly a lot of thought and preparation that goes into each assignment which is nice because they are not easy assignments. Very rarely feel like you're doing busywork. 5.0 4.0 \n",
      "\n",
      "EE16A\n",
      "Most professors in college just regard teaching as job, but don't really care, while professor Ranade is one of the very few who actually cares about how students are doing and really want to make sure that her students are learn something. Perhaps a normal lecturer, but amazing teacher or educator. Remind me of my high school teachers. 5.0 3.0 \n",
      "\n",
      "EE16A\n",
      "Disproportionate amount of work combined with her rushed teaching style makes it hard to learn. Theres hw due on Fridays, self-grades due on Tuesdays, 3 hour lab, and two discussion sections, repeating every week. If you have no prior knowledge of linear algebra, you'll have to spend extra time outside of lecture going over concepts. 3.0 4.0 \n",
      "\n",
      "EE16A\n",
      "Not beginner-friendly, was difficult to understand her explanation of linear algebra 2.0 4.0 \n",
      "\n",
      "EE16A\n",
      "Lecture is boring, dull, and confusing. She also doesn't let you take notes on a tablet/laptop which is annoying since I do that for all my other classes. Hard to understand her mathematical notation and intuition if you have no linear algebra prior experience. 2.0 5.0 \n",
      "\n",
      "EE16A\n",
      "Great 4.0 3.0 \n",
      "\n",
      "Average rating under filters: 4.0 \n",
      "Average difficulty under filters: 4.090909090909091\n",
      "Max/min rating under filters: 5.0, 2.0 \n",
      "Max/min difficulty under filters: 5.0, 3.0\n",
      "Average grade: A\n"
     ]
    }
   ],
   "source": [
    "average_rating, average_difficulty, index, ratings_list, difficulties_list = 0, 0, 0, [], [] #by course wanted for if filter_type true\n",
    "ratings_count = {x:0 for x in range(1,6)}\n",
    "difficulty_count = {x:0 for x in range(1,6)}\n",
    "\n",
    "if filter_type: #because the other option was \"\" #some implicit booleanness\n",
    "    for name, review, rating, difficulty in zip(names, reviews, ratings, difficulties):\n",
    "        print(name)\n",
    "        if any([name in course for course in courses_wanted]):\n",
    "     #   if name in courses_wanted:# or name[len(name)-3:] in [course[len(course)-3:] for course in courses_wanted]:# or name[len(name)-2:] in [course[len(course)-2:] for course in courses_wanted]:\n",
    "            print(review, rating, difficulty, '\\n')\n",
    "            ratings_list.append(rating)\n",
    "            difficulties_list.append(difficulty)\n",
    "            if float(rating) in ratings_count:\n",
    "                ratings_count[float(rating)] +=1\n",
    "            else:\n",
    "                ratings_count[float(rating)] = 1\n",
    "            if float(difficulty) in difficulty_count:\n",
    "                difficulty_count[float(difficulty)] +=1\n",
    "            else:\n",
    "                difficulty_count[float(difficulty)] = 1\n",
    "            average_rating += float(rating)\n",
    "            average_difficulty += float(difficulty)\n",
    "            index +=1\n",
    "    for index, div in enumerate(divs):\n",
    "        if any([names[index] in course for course in courses_wanted]):\n",
    "            grade_isolator(div, grades_list)\n",
    "else: #for filtering out courses\n",
    "    course, filtered = input(\"enter the course number(s) of the classes that you would NOT like to see. Press enter on blank when you're complete: \"), []\n",
    "    while course:\n",
    "        filtered.append(course.upper())\n",
    "        course = input(\"enter the course number(s) of the classes that you would NOT like to see. Press enter on blank when you're complete: \" )\n",
    "    for name, review, rating, difficulty in zip(names, reviews, ratings, difficulties):\n",
    "        print(name)\n",
    "        if not any([name in course for course in filtered]):# i.e. class should NOT be CS61A filtered\n",
    "            print(review, rating, difficulty, '\\n')\n",
    "            ratings_list.append(rating)\n",
    "            difficulties_list.append(difficulty)\n",
    "            if float(rating) in ratings_count:# or difficulty in difficulty_count:\n",
    "                ratings_count[float(rating)] +=1\n",
    "            else:\n",
    "                ratings_count[float(rating)] = 1\n",
    "            if float(difficulty) in difficulty_count:\n",
    "                difficulty_count[float(difficulty)] +=1\n",
    "            else:\n",
    "                difficulty_count[float(difficulty)] = 1\n",
    "            average_rating += float(rating)\n",
    "            average_difficulty += float(difficulty)\n",
    "            index +=1   \n",
    "    for index, div in enumerate(divs):\n",
    "        if not any([names[index] in course for course in filtered]):\n",
    "            grade_isolator(div, grades_list)\n",
    "try:\n",
    "    print(\"Average rating under filters: {} \\nAverage difficulty under filters: {}\".format(average_rating/index, average_difficulty/index))\n",
    "    print(\"Max/min rating under filters: {}, {} \\nMax/min difficulty under filters: {}, {}\".format(max(ratings_list), min(ratings_list), max(difficulties_list), min(difficulties_list)))\n",
    "except ZeroDivisionError:\n",
    "    pass\n",
    "print(\"Average grade: {}\".format(avg(grades_list)))"
   ]
  },
  {
   "cell_type": "code",
   "execution_count": 13,
   "metadata": {},
   "outputs": [
    {
     "name": "stdout",
     "output_type": "stream",
     "text": [
      "she\n",
      "her\n",
      "she\n",
      "she\n",
      "her\n",
      "she\n",
      "she\n",
      "she\n",
      "she\n",
      "she\n",
      "her\n",
      "her\n",
      "her\n",
      "she\n",
      "her\n",
      "gender: 0\n"
     ]
    }
   ],
   "source": [
    "gender = {0:0, 1:0 } #0 female, 1 male\n",
    "she_series, he_series = ('she','her','hers'),(\"he\",\"him\",\"his\")\n",
    "for review in [review.lower() for review in reviews]:\n",
    "    for word in review.split():\n",
    "        if word in she_series:\n",
    "            #print(word)\n",
    "            gender[0] +=1\n",
    "        if word in he_series:\n",
    "            #print(word)\n",
    "            gender[1] +=1\n",
    "if gender[0] == gender[1]:\n",
    "    print(\"gender inconclusive\")\n",
    "else:\n",
    "    reverse = {val: key for key, val in gender.items()}\n",
    "    print(\"gender: {}\".format(reverse[max(reverse.keys())]))\n"
   ]
  },
  {
   "cell_type": "code",
   "execution_count": null,
   "metadata": {},
   "outputs": [],
   "source": [
    "\"\"\"general cell for debugging and trying stuff out\"\"\"\n",
    "print(len(names), len(reviews), len(ratings), len(difficulties), len(divs))\n",
    "print(sum([val for val in ratings_count.values()]))\n",
    "print(sum(difficulty_count.values()))\n",
    "print(ratings_count, difficulty_count)\n",
    "def filter_by_grades(thing):\n",
    "    return any([s.lower() in [\"a+\", \"b-\",\"b+\" ] for s in thing.split()]) \n",
    "letterz,gradesss = professor_soup.find_all(string = filter_by_grades), []\n",
    "for letter in letterz:\n",
    "    gradesss.append(grade_to_number(letter))"
   ]
  },
  {
   "cell_type": "code",
   "execution_count": null,
   "metadata": {},
   "outputs": [],
   "source": []
  }
 ],
 "metadata": {
  "kernelspec": {
   "display_name": "Python 3",
   "language": "python",
   "name": "python3"
  },
  "language_info": {
   "codemirror_mode": {
    "name": "ipython",
    "version": 3
   },
   "file_extension": ".py",
   "mimetype": "text/x-python",
   "name": "python",
   "nbconvert_exporter": "python",
   "pygments_lexer": "ipython3",
   "version": "3.7.3"
  }
 },
 "nbformat": 4,
 "nbformat_minor": 2
}
