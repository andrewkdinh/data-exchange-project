{
 "cells": [
  {
   "cell_type": "code",
   "execution_count": 1,
   "metadata": {},
   "outputs": [],
   "source": [
    "\"\"\"This is essentially the same as my denero non-61a review script applied to any \n",
    "ratemyprofessors page and any course filter (ex: sahai's page -> 189 reviews,\n",
    "or sahai's page -> non 189 and non 16a reviews)\"\"\"\n",
    "#import requests \n",
    "from bs4 import BeautifulSoup as bs\n",
    "import re\n",
    "\n",
    "from selenium import webdriver\n",
    "from selenium.webdriver.common.desired_capabilities import DesiredCapabilities\n",
    "from selenium.webdriver.common.by import By\n",
    "from selenium.webdriver.support import expected_conditions as EC\n",
    "from selenium.webdriver.support.ui import WebDriverWait\n",
    "PATH = r'C:\\Users\\jsonn\\Documents\\Python\\selenium\\chromedriver.exe' #needed to put r to not get unicode error, this line is from that youtube tutorial\n",
    "#the path is where I put the chromedriver app thingie\n",
    "grading_scale = {4.0:'A',\n",
    "                    3.7: 'A-',\n",
    "                    3.3: 'B+',\n",
    "                     3.0: 'B',\n",
    "                    2.7: 'B-',\n",
    "                    2.3: 'C+',\n",
    "                    2: 'C',\n",
    "                    1.7:'C-',\n",
    "                    1.3:'D+',\n",
    "                     1:'D',\n",
    "                     0.7:'D-',\n",
    "                    0:'F'}\n",
    "reversed_scale = {letter:num for num, letter in grading_scale.items()}\n",
    "\n",
    "def create_driver(headless=True, implicit_wait=2):\n",
    "    \"\"\"\n",
    "    opts = webdriver.chrome.options.Options()\n",
    "    opts.headless = headless\n",
    "    driver = webdriver.Remote(\n",
    "        command_executor='http://127.0.0.1:3928/wd/hub',\n",
    "        desired_capabilities=DesiredCapabilities.CHROME, \n",
    "        options=opts)\n",
    "    driver.implicitly_wait(2)\n",
    "    \"\"\"\n",
    "    opts = webdriver.chrome.options.Options()# changed from firefox to chrome \n",
    "    opts.headless = headless\n",
    "    #driver = webdriver.Chrome(options=opts)\n",
    "    driver = webdriver.Chrome(PATH)\n",
    "    driver.implicitly_wait(implicit_wait)\n",
    "    return driver\n",
    "\n",
    "def average_grade(grades):\n",
    "    \"\"\"given a list of grades as numbers (i.e. A is a 4) returns the average grade as a letter.\n",
    "    This function rounds down.\n",
    "    average_grade([4.3,2.3,4,3.7,3.3]), where the mean is 3.52, rounds up to an A-\n",
    "    average_grade([4,3,3,4,4,2.7]), where the mean is 3.449, rounds down to a b+\"\"\"\n",
    "    number_grade = round(sum(grades) / len(grades), 1)\n",
    "    for grade in grading_scale:\n",
    "        if number_grade >= grade -.2: #starts with a, so if the average grade is >= 3.8\n",
    "            return grading_scale[grade]\n",
    "def grade_to_number(letter):\n",
    "    if letter == \"A+\": #this is not really right but it's fine, there's no difference between the two\n",
    "        letter = \"A\"\n",
    "    return reversed_scale[letter]"
   ]
  },
  {
   "cell_type": "code",
   "execution_count": 2,
   "metadata": {},
   "outputs": [
    {
     "name": "stdout",
     "output_type": "stream",
     "text": [
      "paste link: https://www.ratemyprofessors.com/ShowRatings.jsp?tid=1621181\n"
     ]
    }
   ],
   "source": [
    "url = input(\"paste link: \")\n",
    "driver = create_driver(headless=False)\n",
    "driver.get(url)\n",
    "# Click cookie button\n",
    "button = WebDriverWait(driver, 5).until(EC.element_to_be_clickable((By.CLASS_NAME, \"FullPageModal__StyledCloseButton-sc-17feuxe-1\")))\n",
    "driver.execute_script(\"arguments[0].click();\", button)\n",
    "\n",
    "try:\n",
    "    while True:\n",
    "        button = WebDriverWait(driver, 2).until(EC.element_to_be_clickable((By.CLASS_NAME, \"Buttons__BlackButton-sc-19xdot-1\")))\n",
    "        driver.execute_script(\"arguments[0].click();\", button)\n",
    "except:\n",
    "    pass\n",
    "\n",
    "professor_soup = bs(driver.page_source, \"html.parser\")\n",
    "driver.quit()"
   ]
  },
  {
   "cell_type": "code",
   "execution_count": 3,
   "metadata": {},
   "outputs": [
    {
     "name": "stdout",
     "output_type": "stream",
     "text": [
      "Choose the kind of filter you want. If you want a specific class(es), enter course number(s) (i.e. CS61A) one at a time, and enter 'done' when complete. If you want to filter OUT a course(s), just press enter for now: data8\n",
      "choose another course. Enter 'done' when complete: csc8\n",
      "choose another course. Enter 'done' when complete: cs8\n",
      "choose another course. Enter 'done' when complete: cs08\n",
      "choose another course. Enter 'done' when complete: done\n",
      "Execute next cell.\n"
     ]
    }
   ],
   "source": [
    "filter_type = input(\"Choose the kind of filter you want. If you want a specific class(es), enter course number(s) (i.e. CS61A) one at a time, and enter 'done' when complete. If you want to filter OUT a course(s), just press enter for now: \")\n",
    "if filter_type: #they need to put in the whole course name, and potentially other names that it might go by\n",
    "    courses_wanted = [filter_type.upper()]\n",
    "    while filter_type != \"done\":\n",
    "        filter_type = input(\"choose another course. Enter 'done' when complete: \")\n",
    "        courses_wanted.append(filter_type.upper())\n",
    "    courses_wanted.pop() #gets rid of done, this doesn't really matter unless there's actually a course called done\n",
    "print('Execute next cell.')"
   ]
  },
  {
   "cell_type": "code",
   "execution_count": 4,
   "metadata": {},
   "outputs": [
    {
     "name": "stdout",
     "output_type": "stream",
     "text": [
      "Execute next cell.\n"
     ]
    }
   ],
   "source": [
    "course_names = professor_soup.find_all(\"div\",\"RatingHeader__StyledClass-sc-1dlkqw1-2 hBbYdP\")\n",
    "names = [name.string for name in course_names][::2]\n",
    "course_reviews = professor_soup.find_all(\"div\", \"Comments__StyledComments-dzzyvm-0 dEfjGB\")\n",
    "reviews = [review.string for review in course_reviews][1:] #we don't want most helpful rating because it's repeated \n",
    "\n",
    "#print(len(names), len(reviews)) i need to figure out why reviews is half the length of names \n",
    "#the length of names is resolved. the source code for some reason had stuff listed twice\n",
    "\n",
    "course_ratings_difficulty = professor_soup.find_all(\"div\", re.compile(\"RatingValues__RatingValue-sc-6dc747-3\"))\n",
    "#ratingvalues with 747-3 are course rating and difficulty\n",
    "ratings, difficulties = [rating.string for rating in course_ratings_difficulty[::2]], [difficulty.string for difficulty in course_ratings_difficulty[1::2]]\n",
    "print(\"Execute next cell.\")"
   ]
  },
  {
   "cell_type": "code",
   "execution_count": 5,
   "metadata": {},
   "outputs": [
    {
     "data": {
      "text/plain": [
       "\"just getting more data in this cell. Would like to get course grades, and would take again.\\nNeed to find out how to account for information that's not included to prevent inconsistency\""
      ]
     },
     "execution_count": 5,
     "metadata": {},
     "output_type": "execute_result"
    }
   ],
   "source": [
    "\"\"\"just getting more data in this cell. Would like to get course grades, and would take again.\n",
    "Need to find out how to account for information that's not included to prevent inconsistency\"\"\"\n",
    "#(professor_soup.find_all(\"div\",\"MetaItem__StyledMetaItem-y0ixml-0 bxqwYh\"))"
   ]
  },
  {
   "cell_type": "code",
   "execution_count": 6,
   "metadata": {
    "scrolled": true,
    "tags": [
     "outputPrepend"
    ]
   },
   "outputs": [
    {
     "name": "stdout",
     "output_type": "stream",
     "text": [
      "CS61A\n",
      "61A\n",
      "CS61A\n",
      "CS61A\n",
      "61A\n",
      "CS61A\n",
      "61A\n",
      "CS61A\n",
      "CS61A\n",
      "CS61A\n",
      "CS61A\n",
      "CS61A\n",
      "61A\n",
      "CS61A\n",
      "CS61A\n",
      "CS61A\n",
      "CS61A\n",
      "CS61A\n",
      "CS61A\n",
      "CS61A\n",
      "CS61A\n",
      "CS61A\n",
      "61A\n",
      "61A\n",
      "CS61A\n",
      "CS61A\n",
      "61A\n",
      "CS61A\n",
      "CS61A\n",
      "CS61A\n",
      "DATA8\n",
      "I took Data 8 with Denero and Wagner Fall 2017 and it is so clear how much effort they put into crafting a really interesting and well-designed class. Denero is charismatic and moves at a good pace in his lectures. He mostly taught the coding portion of the material and was very approachable when I asked questions in office hours. 5.0 3.0 \n",
      "\n",
      "CS61A\n",
      "DATA8\n",
      "Prof. DeNero is witty, knowledgable, and patient. He and the GSIs construct an inclusive, helpful environment for all students. There is no shortage of help (Piazza, office hours, lab), though you may have to wait during busy times, like right before a project is due. Try to take coding problems in stride. You learn best through trial and error! 5.0 4.0 \n",
      "\n",
      "CS61A\n",
      "CS61A\n",
      "CS61A\n",
      "DATA8\n",
      "The myth, the man, and the legend. This guy somehow manages to simulate a semi-personal connection with each and every student in a class with several hundred students. The course (for the most part) was very well run, and I definitely enjoyed it. He and Adhikari both did an amazing job trying to make the material accessible for everyone. 4.0 2.0 \n",
      "\n",
      "61A\n",
      "CS8\n",
      "Professor DeNero is the man, I have never had a professor this good. 5.0 3.0 \n",
      "\n",
      "CS61A\n",
      "61A\n",
      "CS61A\n",
      "CS61A\n",
      "CS61A\n",
      "CS61B\n",
      "CS61A\n",
      "CS61A\n",
      "CS61A\n",
      "CS61A\n",
      "CS61A\n",
      "CS61A\n",
      "61A\n",
      "CS61A\n",
      "CS61A\n",
      "61A\n",
      "61A\n",
      "CS61A\n",
      "61A\n",
      "CS61A\n",
      "CS61A\n",
      "CS61A\n",
      "CS61A\n",
      "CS61A\n",
      "CS61A\n",
      "CS61A\n",
      "CS61A\n",
      "CS61A\n",
      "CS61A\n",
      "CS61A\n",
      "CS61A\n",
      "CS61A\n",
      "CS61A\n",
      "CS61A\n",
      "CS61A\n",
      "CS61A\n",
      "CS61A\n",
      "CS61A\n",
      "CS61A\n",
      "CS61A\n",
      "CS61A\n",
      "CS61A\n",
      "CS61A\n",
      "CS61A\n",
      "CS61A\n",
      "CS61A\n",
      "CS61A\n",
      "CS61A\n",
      "CS61A\n",
      "CS61A\n",
      "CS61A\n",
      "CS61A\n",
      "CS61A\n",
      "CS61A\n",
      "CS61A\n",
      "CS61A\n",
      "CS61A\n",
      "CS61A\n",
      "CS61A\n",
      "CS61A\n",
      "CS61A\n",
      "CS61A\n",
      "CS61A\n",
      "CS61A\n",
      "CS61A\n",
      "CS61A\n",
      "61A\n",
      "CS61A\n",
      "CS61A\n",
      "CS61A\n",
      "CS11\n",
      "CS61A\n",
      "CS61A\n",
      "CS61A\n",
      "CS113\n",
      "CS61A\n",
      "CS011\n",
      "CS61A\n",
      "CS61A\n",
      "Average rating under filters: 4.75 \n",
      "Average difficulty under filters: 3.0\n",
      "Max/min rating under filters: 5.0, 4.0 \n",
      "Max/min difficulty under filters: 4.0, 2.0\n"
     ]
    }
   ],
   "source": [
    "average_rating, average_difficulty, index, ratings_list, difficulties_list = 0, 0, 0, [], [] #by course wanted for if filter_type true\n",
    "if filter_type: #because the other option was \"\" #some implicit booleanness\n",
    "    for name, review, rating, difficulty in zip(names, reviews, ratings, difficulties):\n",
    "        print(name)\n",
    "        if any([name in course for course in courses_wanted]):\n",
    "     #   if name in courses_wanted:# or name[len(name)-3:] in [course[len(course)-3:] for course in courses_wanted]:# or name[len(name)-2:] in [course[len(course)-2:] for course in courses_wanted]:\n",
    "            print(review, rating, difficulty, '\\n')\n",
    "            ratings_list.append(rating)\n",
    "            difficulties_list.append(difficulty)\n",
    "            average_rating += float(rating)\n",
    "            average_difficulty += float(difficulty)\n",
    "            index +=1\n",
    "else: #for filtering out classes\n",
    "    course, filtered = input(\"enter the course number(s) of the classes that you would NOT like to see. Press enter on blank when you're complete: \"), []\n",
    "    while course:\n",
    "        filtered.append(course.upper())\n",
    "        course = input(\"enter the course number(s) of the classes that you would NOT like to see. Press enter on blank when you're complete: \" )\n",
    "    for name, review, rating, difficulty in zip(names, reviews, ratings, difficulties):\n",
    "        print(name)\n",
    "        if not any([name in course for course in filtered]):# i.e. class should NOT be CS61A filtered\n",
    "            print(review, rating, difficulty, '\\n')\n",
    "            ratings_list.append(rating)\n",
    "            difficulties_list.append(difficulty)\n",
    "            average_rating += float(rating)\n",
    "            average_difficulty += float(difficulty)\n",
    "            index +=1    \n",
    "try:\n",
    "    print(\"Average rating under filters: {} \\nAverage difficulty under filters: {}\".format(average_rating/index, average_difficulty/index))\n",
    "    print(\"Max/min rating under filters: {}, {} \\nMax/min difficulty under filters: {}, {}\".format(max(ratings_list), min(ratings_list), max(difficulties_list), min(difficulties_list)))\n",
    "except ZeroDivisionError:\n",
    "    pass"
   ]
  },
  {
   "cell_type": "code",
   "execution_count": null,
   "metadata": {},
   "outputs": [],
   "source": [
    "#more data\n",
    "#here i could put highest and lowest rating/review associated with it, average rating for specific classes"
   ]
  },
  {
   "cell_type": "code",
   "execution_count": 7,
   "metadata": {},
   "outputs": [
    {
     "data": {
      "text/plain": [
       "(118, 118, 118, 118)"
      ]
     },
     "execution_count": 7,
     "metadata": {},
     "output_type": "execute_result"
    }
   ],
   "source": [
    "len(names), len(reviews), len(ratings), len(difficulties)"
   ]
  },
  {
   "cell_type": "code",
   "execution_count": null,
   "metadata": {},
   "outputs": [],
   "source": [
    "css_soup = bs('<p id=\"body\"></p>')\n",
    "css_soup.p['id']"
   ]
  },
  {
   "cell_type": "code",
   "execution_count": null,
   "metadata": {},
   "outputs": [],
   "source": [
    "def filter_by_grades(thing):\n",
    "    return any([s.lower() in [\"a+\", \"b-\",\"b+\" ] for s in thing.split()]) \n",
    "letterz,gradesss = professor_soup.find_all(string = filter_by_grades), []\n",
    "for letter in letterz:\n",
    "    gradesss.append(grade_to_number(letter))\n",
    "gradesss, average_grade(gradesss)"
   ]
  },
  {
   "cell_type": "code",
   "execution_count": null,
   "metadata": {},
   "outputs": [],
   "source": []
  }
 ],
 "metadata": {
  "kernelspec": {
   "display_name": "Python 3",
   "language": "python",
   "name": "python3"
  },
  "language_info": {
   "codemirror_mode": {
    "name": "ipython",
    "version": 3
   },
   "file_extension": ".py",
   "mimetype": "text/x-python",
   "name": "python",
   "nbconvert_exporter": "python",
   "pygments_lexer": "ipython3",
   "version": "3.7.3"
  }
 },
 "nbformat": 4,
 "nbformat_minor": 2
}
