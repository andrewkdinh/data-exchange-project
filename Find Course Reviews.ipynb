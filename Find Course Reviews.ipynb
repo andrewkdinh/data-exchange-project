{
 "cells": [
  {
   "cell_type": "code",
   "execution_count": 39,
   "metadata": {},
   "outputs": [],
   "source": [
    "\"\"\"This is essentially the same as my denero non-61a review script applied to any \n",
    "ratemyprofessors page and any course filter (ex: sahai's page -> 189 reviews,\n",
    "or sahai's page -> non 189 and non 16a reviews)\"\"\"\n",
    "import requests \n",
    "from bs4 import BeautifulSoup as bs\n",
    "import re\n",
    "#from selenium.webdriver.common.keys import Keys\n",
    "#PATH = r'C:\\Users\\jsonn\\Documents\\Python\\selenium\\chromedriver.exe' #needed to put r to not get unicode error\n",
    "#the path is where I put the chromedriver app thingie\n",
    "#driver = webdriver.Chrome(PATH)\n",
    "grading_scale = {4.0:'A',\n",
    "                    3.7: 'A-',\n",
    "                    3.3: 'B+',\n",
    "                     3.0: 'B',\n",
    "                    2.7: 'B-',\n",
    "                    2.3: 'C+',\n",
    "                    2: 'C',\n",
    "                    1.7:'C-',\n",
    "                    1.3:'D+',\n",
    "                     1:'D',\n",
    "                     0.7:'D-',\n",
    "                    0:'F'}\n",
    "reversed_scale = {letter:num for num,letter in grading_scale.items()}\n",
    "\n",
    "def average_grade(grades):\n",
    "    \"\"\"given a list of grades as numbers (i.e. A is a 4) returns the average grade as a letter.\n",
    "    This function rounds down.\n",
    "    average_grade([4.3,2.3,4,3.7,3.3]), where the mean is 3.52, rounds up to an A-\n",
    "    average_grade([4,3,3,4,4,2.7]), where the mean is 3.449, rounds down to a b+\"\"\"\n",
    "    number_grade = round(sum(grades) / len(grades), 1)\n",
    "    for grade in grading_scale:\n",
    "        if number_grade >= grade -.2: #starts with a, so if the average grade is >= 3.8\n",
    "            return grading_scale[grade]\n",
    "def grade_to_number(letter):\n",
    "    if letter == \"A+\": #this is not really right but it's fine, there's no difference between the two\n",
    "        letter = \"A\"\n",
    "    return reversed_scale[letter]"
   ]
  },
  {
   "cell_type": "code",
   "execution_count": 40,
   "metadata": {},
   "outputs": [
    {
     "name": "stdout",
     "output_type": "stream",
     "text": [
      "paste the link here: https://www.ratemyprofessors.com/ShowRatings.jsp?tid=1621181\n"
     ]
    }
   ],
   "source": [
    "professor = requests.get(input(\"paste the link here: \"))\n",
    "professor_soup = bs(professor.content, \"html.parser\")"
   ]
  },
  {
   "cell_type": "code",
   "execution_count": 49,
   "metadata": {},
   "outputs": [
    {
     "name": "stdout",
     "output_type": "stream",
     "text": [
      "Choose the kind of filter you want. If you want a specific class(es), enter course number(s) (i.e. CS61A) one at a time, and enter 'done' when complete. If you want to filter OUT a course(s), just press enter for now: \n",
      "Execute next cell.\n"
     ]
    }
   ],
   "source": [
    "filter_type = input(\"Choose the kind of filter you want. If you want a specific class(es), enter course number(s) (i.e. CS61A) one at a time, and enter 'done' when complete. If you want to filter OUT a course(s), just press enter for now: \")\n",
    "if filter_type: #they need to put in the whole course name, and potentially other names that it might go by\n",
    "    courses_wanted = [filter_type.upper()]\n",
    "    while filter_type != \"done\":\n",
    "        filter_type = input(\"choose another course. Enter 'done' when complete: \")\n",
    "        courses_wanted.append(filter_type.upper())\n",
    "    courses_wanted.pop() #gets rid of done, this doesn't really matter unless there's actually a course called done\n",
    "print('Execute next cell.')"
   ]
  },
  {
   "cell_type": "code",
   "execution_count": 50,
   "metadata": {},
   "outputs": [
    {
     "name": "stdout",
     "output_type": "stream",
     "text": [
      "Execute next cell.\n"
     ]
    }
   ],
   "source": [
    "course_names = professor_soup.find_all(\"div\",\"RatingHeader__StyledClass-sc-1dlkqw1-2 hBbYdP\")\n",
    "names = [name.string for name in course_names][::2]\n",
    "course_reviews = professor_soup.find_all(\"div\", \"Comments__StyledComments-dzzyvm-0 dEfjGB\")\n",
    "reviews = [review.string for review in course_reviews]\n",
    "\n",
    "#print(len(names), len(reviews)) i need to figure out why reviews is half the length of names \n",
    "#the length of names is resolved. the source code for some reason had stuff listed twice\n",
    "\n",
    "course_ratings_difficulty = professor_soup.find_all(\"div\", re.compile(\"RatingValues__RatingValue-sc-6dc747-3\"))\n",
    "#ratingvalues with 747-3 are course rating and difficulty\n",
    "ratings, difficulties = [rating.string for rating in course_ratings_difficulty[::2]], [difficulty.string for difficulty in course_ratings_difficulty[1::2]]\n",
    "print(\"Execute next cell.\")"
   ]
  },
  {
   "cell_type": "code",
   "execution_count": 51,
   "metadata": {},
   "outputs": [
    {
     "data": {
      "text/plain": [
       "['CS61A']"
      ]
     },
     "execution_count": 51,
     "metadata": {},
     "output_type": "execute_result"
    }
   ],
   "source": [
    "\"\"\"just getting more data in this cell. Would like to get course grades, and would take again.\n",
    "Need to find out how to account for information that's not included to prevent inconsistency\"\"\"\n",
    "#(professor_soup.find_all(\"div\",\"MetaItem__StyledMetaItem-y0ixml-0 bxqwYh\"))\n",
    "courses_wanted"
   ]
  },
  {
   "cell_type": "code",
   "execution_count": 53,
   "metadata": {
    "scrolled": true
   },
   "outputs": [
    {
     "name": "stdout",
     "output_type": "stream",
     "text": [
      "enter the course number(s) of the classes that you would NOT like to see. Press enter on blank when you're complete: cs61a\n",
      "enter the course number(s) of the classes that you would NOT like to see. Press enter on blank when you're complete: \n",
      "61A\n",
      "CS61A\n",
      "CS61A\n",
      "61A\n",
      "CS61A\n",
      "61A\n",
      "CS61A\n",
      "CS61A\n",
      "CS61A\n",
      "CS61A\n",
      "CS61A\n",
      "61A\n",
      "CS61A\n",
      "CS61A\n",
      "CS61A\n",
      "CS61A\n",
      "CS61A\n",
      "CS61A\n",
      "CS61A\n",
      "CS61A\n"
     ]
    }
   ],
   "source": [
    "average_rating, average_difficulty, index, ratings_list, difficulties_list = 0, 0, 0, [], [] #by course wanted for if filter_type true\n",
    "#average ratings and difficulties will be calculated at the end for relevant courses \n",
    "if filter_type: #because the other option was \"\" #some implicit booleanness\n",
    "    for name, review, rating, difficulty in zip(names, reviews, ratings, difficulties):\n",
    "        print(name)\n",
    "        if any([name in course for course in courses_wanted]):\n",
    "     #   if name in courses_wanted:# or name[len(name)-3:] in [course[len(course)-3:] for course in courses_wanted]:# or name[len(name)-2:] in [course[len(course)-2:] for course in courses_wanted]:\n",
    "            print(review, rating, difficulty, '\\n')\n",
    "            ratings_list.append(rating)\n",
    "            difficulties_list.append(difficulty)\n",
    "            average_rating += float(rating)\n",
    "            average_difficulty += float(difficulty)\n",
    "            index +=1\n",
    "else: #for filtering out classes\n",
    "    course, filtered = input(\"enter the course number(s) of the classes that you would NOT like to see. Press enter on blank when you're complete: \"), []\n",
    "    while course:\n",
    "        filtered.append(course.upper())\n",
    "        course = input(\"enter the course number(s) of the classes that you would NOT like to see. Press enter on blank when you're complete: \" )\n",
    "    for name, review, rating, difficulty in zip(names, reviews, ratings, difficulties):\n",
    "        print(name)\n",
    "        if not any([name in course for course in filtered]):# i.e. class should NOT be CS61A filtered\n",
    "            print(review, rating, difficulty, '\\n')\n",
    "            ratings_list.append(rating)\n",
    "            difficulties_list.append(difficulty)\n",
    "            average_rating += float(rating)\n",
    "            average_difficulty += float(difficulty)\n",
    "            index +=1    \n",
    "try:\n",
    "    print(\"Average rating under filters: {} \\nAverage difficulty under filters: {}\".format(average_rating/index, average_difficulty/index))\n",
    "    print(\"Max/min rating under filters: {}, {} \\nMax/min difficulty under filters: {}, {}\".format(max(ratings_list), min(ratings_list), max(difficulties_list), min(difficulties_list)))\n",
    "except ZeroDivisionError:\n",
    "    pass"
   ]
  },
  {
   "cell_type": "code",
   "execution_count": 35,
   "metadata": {},
   "outputs": [],
   "source": [
    "#more data\n",
    "#here i could put highest and lowest rating/review associated with it, average rating for specific classes"
   ]
  },
  {
   "cell_type": "code",
   "execution_count": 36,
   "metadata": {},
   "outputs": [
    {
     "data": {
      "text/plain": [
       "(6, 6, 6, 6)"
      ]
     },
     "execution_count": 36,
     "metadata": {},
     "output_type": "execute_result"
    }
   ],
   "source": [
    "len(names), len(reviews), len(ratings), len(difficulties)"
   ]
  },
  {
   "cell_type": "code",
   "execution_count": 37,
   "metadata": {},
   "outputs": [
    {
     "data": {
      "text/plain": [
       "'body'"
      ]
     },
     "execution_count": 37,
     "metadata": {},
     "output_type": "execute_result"
    }
   ],
   "source": [
    "css_soup = bs('<p id=\"body\"></p>')\n",
    "css_soup.p['id']"
   ]
  },
  {
   "cell_type": "code",
   "execution_count": 38,
   "metadata": {},
   "outputs": [
    {
     "ename": "ZeroDivisionError",
     "evalue": "division by zero",
     "output_type": "error",
     "traceback": [
      "\u001b[1;31m---------------------------------------------------------------------------\u001b[0m",
      "\u001b[1;31mZeroDivisionError\u001b[0m                         Traceback (most recent call last)",
      "\u001b[1;32m<ipython-input-38-eebd41ee4a69>\u001b[0m in \u001b[0;36m<module>\u001b[1;34m\u001b[0m\n\u001b[0;32m      4\u001b[0m \u001b[1;32mfor\u001b[0m \u001b[0mletter\u001b[0m \u001b[1;32min\u001b[0m \u001b[0mletterz\u001b[0m\u001b[1;33m:\u001b[0m\u001b[1;33m\u001b[0m\u001b[1;33m\u001b[0m\u001b[0m\n\u001b[0;32m      5\u001b[0m     \u001b[0mgradesss\u001b[0m\u001b[1;33m.\u001b[0m\u001b[0mappend\u001b[0m\u001b[1;33m(\u001b[0m\u001b[0mgrade_to_number\u001b[0m\u001b[1;33m(\u001b[0m\u001b[0mletter\u001b[0m\u001b[1;33m)\u001b[0m\u001b[1;33m)\u001b[0m\u001b[1;33m\u001b[0m\u001b[1;33m\u001b[0m\u001b[0m\n\u001b[1;32m----> 6\u001b[1;33m \u001b[0mgradesss\u001b[0m\u001b[1;33m,\u001b[0m \u001b[0maverage_grade\u001b[0m\u001b[1;33m(\u001b[0m\u001b[0mgradesss\u001b[0m\u001b[1;33m)\u001b[0m\u001b[1;33m\u001b[0m\u001b[1;33m\u001b[0m\u001b[0m\n\u001b[0m",
      "\u001b[1;32m<ipython-input-2-ccf467503e35>\u001b[0m in \u001b[0;36maverage_grade\u001b[1;34m(grades)\u001b[0m\n\u001b[0;32m     28\u001b[0m     \u001b[0maverage_grade\u001b[0m\u001b[1;33m(\u001b[0m\u001b[1;33m[\u001b[0m\u001b[1;36m4.3\u001b[0m\u001b[1;33m,\u001b[0m\u001b[1;36m2.3\u001b[0m\u001b[1;33m,\u001b[0m\u001b[1;36m4\u001b[0m\u001b[1;33m,\u001b[0m\u001b[1;36m3.7\u001b[0m\u001b[1;33m,\u001b[0m\u001b[1;36m3.3\u001b[0m\u001b[1;33m]\u001b[0m\u001b[1;33m)\u001b[0m\u001b[1;33m,\u001b[0m \u001b[0mwhere\u001b[0m \u001b[0mthe\u001b[0m \u001b[0mmean\u001b[0m \u001b[1;32mis\u001b[0m \u001b[1;36m3.52\u001b[0m\u001b[1;33m,\u001b[0m \u001b[0mrounds\u001b[0m \u001b[0mup\u001b[0m \u001b[0mto\u001b[0m \u001b[0man\u001b[0m \u001b[0mA\u001b[0m\u001b[1;33m-\u001b[0m\u001b[1;33m\u001b[0m\u001b[1;33m\u001b[0m\u001b[0m\n\u001b[0;32m     29\u001b[0m     average_grade([4,3,3,4,4,2.7]), where the mean is 3.449, rounds down to a b+\"\"\"\n\u001b[1;32m---> 30\u001b[1;33m     \u001b[0mnumber_grade\u001b[0m \u001b[1;33m=\u001b[0m \u001b[0mround\u001b[0m\u001b[1;33m(\u001b[0m\u001b[0msum\u001b[0m\u001b[1;33m(\u001b[0m\u001b[0mgrades\u001b[0m\u001b[1;33m)\u001b[0m \u001b[1;33m/\u001b[0m \u001b[0mlen\u001b[0m\u001b[1;33m(\u001b[0m\u001b[0mgrades\u001b[0m\u001b[1;33m)\u001b[0m\u001b[1;33m,\u001b[0m \u001b[1;36m1\u001b[0m\u001b[1;33m)\u001b[0m\u001b[1;33m\u001b[0m\u001b[1;33m\u001b[0m\u001b[0m\n\u001b[0m\u001b[0;32m     31\u001b[0m     \u001b[1;32mfor\u001b[0m \u001b[0mgrade\u001b[0m \u001b[1;32min\u001b[0m \u001b[0mgrading_scale\u001b[0m\u001b[1;33m:\u001b[0m\u001b[1;33m\u001b[0m\u001b[1;33m\u001b[0m\u001b[0m\n\u001b[0;32m     32\u001b[0m         \u001b[1;32mif\u001b[0m \u001b[0mnumber_grade\u001b[0m \u001b[1;33m>=\u001b[0m \u001b[0mgrade\u001b[0m \u001b[1;33m-\u001b[0m\u001b[1;36m.2\u001b[0m\u001b[1;33m:\u001b[0m \u001b[1;31m#starts with a, so if the average grade is >= 3.8\u001b[0m\u001b[1;33m\u001b[0m\u001b[1;33m\u001b[0m\u001b[0m\n",
      "\u001b[1;31mZeroDivisionError\u001b[0m: division by zero"
     ]
    }
   ],
   "source": [
    "def filter_by_grades(thing):\n",
    "    return any([s.lower() in [\"a+\", \"b-\",\"b+\" ] for s in thing.split()]) \n",
    "letterz,gradesss = professor_soup.find_all(string = filter_by_grades), []\n",
    "for letter in letterz:\n",
    "    gradesss.append(grade_to_number(letter))\n",
    "gradesss, average_grade(gradesss)"
   ]
  },
  {
   "cell_type": "code",
   "execution_count": null,
   "metadata": {},
   "outputs": [],
   "source": []
  }
 ],
 "metadata": {
  "kernelspec": {
   "display_name": "Python 3",
   "language": "python",
   "name": "python3"
  }
 },
 "nbformat": 4,
 "nbformat_minor": 2
}
