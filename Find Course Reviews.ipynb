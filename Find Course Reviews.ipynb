{
 "cells": [
  {
   "cell_type": "code",
   "execution_count": 40,
   "metadata": {},
   "outputs": [],
   "source": [
    "\"\"\"This is essentially the same as my denero non-61a review script applied to any \n",
    "ratemyprofessors page and any course filter (ex: sahai's page -> 189 reviews,\n",
    "or sahai's page -> non 189 and non 16a reviews)\"\"\"\n",
    "import requests \n",
    "from bs4 import BeautifulSoup as bs\n",
    "import re\n",
    "\n",
    "from selenium import webdriver\n",
    "from selenium.webdriver.common.desired_capabilities import DesiredCapabilities\n",
    "from selenium.webdriver.common.by import By\n",
    "from selenium.webdriver.support import expected_conditions as EC\n",
    "from selenium.webdriver.support.ui import WebDriverWait\n",
    "#from selenium.webdriver.common.keys import Keys\n",
    "#PATH = r'C:\\Users\\jsonn\\Documents\\Python\\selenium\\chromedriver.exe' #needed to put r to not get unicode error\n",
    "#the path is where I put the chromedriver app thingie\n",
    "#driver = webdriver.Chrome(PATH)\n",
    "grading_scale = {4.0:'A',\n",
    "                    3.7: 'A-',\n",
    "                    3.3: 'B+',\n",
    "                     3.0: 'B',\n",
    "                    2.7: 'B-',\n",
    "                    2.3: 'C+',\n",
    "                    2: 'C',\n",
    "                    1.7:'C-',\n",
    "                    1.3:'D+',\n",
    "                     1:'D',\n",
    "                     0.7:'D-',\n",
    "                    0:'F'}\n",
    "reversed_scale = {letter:num for num,letter in grading_scale.items()}\n",
    "\n",
    "def create_driver(headless=True, implicit_wait=2):\n",
    "    \"\"\"\n",
    "    opts = webdriver.chrome.options.Options()\n",
    "    opts.headless = headless\n",
    "    driver = webdriver.Remote(\n",
    "        command_executor='http://127.0.0.1:3928/wd/hub',\n",
    "        desired_capabilities=DesiredCapabilities.CHROME, \n",
    "        options=opts)\n",
    "    driver.implicitly_wait(2)\n",
    "    \"\"\"\n",
    "    opts = webdriver.firefox.options.Options()\n",
    "    opts.headless = headless\n",
    "    driver = webdriver.Firefox(options=opts)\n",
    "    driver.implicitly_wait(implicit_wait)\n",
    "    return driver\n",
    "\n",
    "def average_grade(grades):\n",
    "    \"\"\"given a list of grades as numbers (i.e. A is a 4) returns the average grade as a letter.\n",
    "    This function rounds down.\n",
    "    average_grade([4.3,2.3,4,3.7,3.3]), where the mean is 3.52, rounds up to an A-\n",
    "    average_grade([4,3,3,4,4,2.7]), where the mean is 3.449, rounds down to a b+\"\"\"\n",
    "    number_grade = round(sum(grades) / len(grades), 1)\n",
    "    for grade in grading_scale:\n",
    "        if number_grade >= grade -.2: #starts with a, so if the average grade is >= 3.8\n",
    "            return grading_scale[grade]\n",
    "def grade_to_number(letter):\n",
    "    if letter == \"A+\": #this is not really right but it's fine, there's no difference between the two\n",
    "        letter = \"A\"\n",
    "    return reversed_scale[letter]"
   ]
  },
  {
   "cell_type": "code",
   "execution_count": 41,
   "metadata": {},
   "outputs": [],
   "source": [
    "# professor = requests.get(input(\"paste the link here: \"))\n",
    "# url = input(\"paste the link here: \")\n",
    "url = \"https://www.ratemyprofessors.com/ShowRatings.jsp?tid=1621181\"\n",
    "driver = create_driver(headless=False)\n",
    "driver.get(url)\n",
    "\n",
    "# Click cookie button\n",
    "button = WebDriverWait(driver, 5).until(EC.element_to_be_clickable((By.CLASS_NAME, \"FullPageModal__StyledCloseButton-sc-17feuxe-1\")))\n",
    "driver.execute_script(\"arguments[0].click();\", button)\n",
    "\n",
    "try:\n",
    "    while True:\n",
    "        button = WebDriverWait(driver, 2).until(EC.element_to_be_clickable((By.CLASS_NAME, \"Buttons__BlackButton-sc-19xdot-1\")))\n",
    "        driver.execute_script(\"arguments[0].click();\", button)\n",
    "except:\n",
    "    pass\n",
    "\n",
    "professor_soup = bs(driver.page_source, \"html.parser\")\n",
    "driver.quit()"
   ]
  },
  {
   "cell_type": "code",
   "execution_count": 43,
   "metadata": {},
   "outputs": [
    {
     "output_type": "stream",
     "name": "stdout",
     "text": "Execute next cell.\n"
    }
   ],
   "source": [
    "filter_type = input(\"Choose the kind of filter you want. If you want a specific class(es), enter course number(s) (i.e. CS61A) one at a time, and enter 'done' when complete. If you want to filter OUT a course(s), just press enter for now: \")\n",
    "if filter_type: #they need to put in the whole course name, and potentially other names that it might go by\n",
    "    courses_wanted = [filter_type.upper()]\n",
    "    while filter_type != \"done\":\n",
    "        filter_type = input(\"choose another course. Enter 'done' when complete: \")\n",
    "        courses_wanted.append(filter_type.upper())\n",
    "    courses_wanted.pop() #gets rid of done, this doesn't really matter unless there's actually a course called done\n",
    "print('Execute next cell.')"
   ]
  },
  {
   "cell_type": "code",
   "execution_count": 44,
   "metadata": {},
   "outputs": [
    {
     "output_type": "stream",
     "name": "stdout",
     "text": "Execute next cell.\n"
    }
   ],
   "source": [
    "course_names = professor_soup.find_all(\"div\",\"RatingHeader__StyledClass-sc-1dlkqw1-2 hBbYdP\")\n",
    "names = [name.string for name in course_names][::2]\n",
    "course_reviews = professor_soup.find_all(\"div\", \"Comments__StyledComments-dzzyvm-0 dEfjGB\")\n",
    "reviews = [review.string for review in course_reviews]\n",
    "\n",
    "#print(len(names), len(reviews)) i need to figure out why reviews is half the length of names \n",
    "#the length of names is resolved. the source code for some reason had stuff listed twice\n",
    "\n",
    "course_ratings_difficulty = professor_soup.find_all(\"div\", re.compile(\"RatingValues__RatingValue-sc-6dc747-3\"))\n",
    "#ratingvalues with 747-3 are course rating and difficulty\n",
    "ratings, difficulties = [rating.string for rating in course_ratings_difficulty[::2]], [difficulty.string for difficulty in course_ratings_difficulty[1::2]]\n",
    "print(\"Execute next cell.\")"
   ]
  },
  {
   "cell_type": "code",
   "execution_count": 45,
   "metadata": {},
   "outputs": [
    {
     "output_type": "execute_result",
     "data": {
      "text/plain": "['CS61A']"
     },
     "metadata": {},
     "execution_count": 45
    }
   ],
   "source": [
    "\"\"\"just getting more data in this cell. Would like to get course grades, and would take again.\n",
    "Need to find out how to account for information that's not included to prevent inconsistency\"\"\"\n",
    "#(professor_soup.find_all(\"div\",\"MetaItem__StyledMetaItem-y0ixml-0 bxqwYh\"))\n",
    "courses_wanted"
   ]
  },
  {
   "cell_type": "code",
   "execution_count": 46,
   "metadata": {
    "scrolled": true,
    "tags": [
     "outputPrepend"
    ]
   },
   "outputs": [
    {
     "output_type": "stream",
     "name": "stdout",
     "text": "ort. At the time of writing final grades haven't been given out, but I'm an A-/A. 5.0 4.0 \n\nDATA8\nDaddy. Very clear lectures and very helpful when stuck. the core course material does not really prepare you for the tests on their own though so significant practice and work outside the hw and projects are needed but otherwise very good course taught by a very good teacher. 5.0 3.0 \n\nCS61A\nI took Data 8 with Denero and Wagner Fall 2017 and it is so clear how much effort they put into crafting a really interesting and well-designed class. Denero is charismatic and moves at a good pace in his lectures. He mostly taught the coding portion of the material and was very approachable when I asked questions in office hours. 5.0 3.0 \n\nDATA8\nJohn DeNero is a legend for a reason. The man truly has a gift for lecturing, explaining concepts very clearly and in an amusing fashion. The content of 61A is very interesting, and the assignments are designed to get you thinking about computer science in a new way. Loved the class, loved the professor. 5.0 4.0 \n\nCS61A\nProf. DeNero is witty, knowledgable, and patient. He and the GSIs construct an inclusive, helpful environment for all students. There is no shortage of help (Piazza, office hours, lab), though you may have to wait during busy times, like right before a project is due. Try to take coding problems in stride. You learn best through trial and error! 5.0 4.0 \n\nCS61A\nLots of resources to help you succeed. Clearly outlines the material and lectures are easy to follow. Useful if you have prior programming experience. The midterms and final are fair. They mainly test problem solving abilities. Denero is extremely friendly and willing to help. Some of the projects are a bit awful. HW and labs are generally easy. 2.0 4.0 \n\nCS61A\nHe's nice but the exams are really hard. The first midterm is fine but the second one and final are so hard. Also the curve is pretty tough 3.0 4.0 \n\nDATA8\nLectures are pretty good but tests are hard, especially the second midterm and final. 4.0 2.0 \n\n61A\nThe myth, the man, and the legend. This guy somehow manages to simulate a semi-personal connection with each and every student in a class with several hundred students. The course (for the most part) was very well run, and I definitely enjoyed it. He and Adhikari both did an amazing job trying to make the material accessible for everyone. 5.0 5.0 \n\nCS8\nHe's overall a really good teacher. He explains everything relatively well considering it's a pretty intense programming course. The projects weren't too bad as they were just based off completion. Just be prepared for really difficult exams; it's what wrecked my grade in the end. 5.0 3.0 \n\nCS61A\nProfessor DeNero is the man, I have never had a professor this good. 5.0 3.0 \n\n61A\nTake his class. I mean it. Denero changed my view of computer science forever. He matches his ridiculous intellect with kindness and understanding towards his students, and to top it off he genuinely wants everyone in his class to succeed. Put in the work and you'll do just fine. 5.0 2.0 \n\nCS61A\nVery nice professor. 5.0 3.0 \n\nCS61A\nDeNero is the most enthusiastic and definitely the best professor I've ever known. It's very obvious he has put more efforts into teaching this course than most other professors, and he did a great job in getting his students excited about computer science. 5.0 3.0 \n\nCS61A\nHis lectures are so great that the online textbook is unnecessary. However, get ready to work plenty if you want to do well. If you can complete all homework and projects on time, you can get 100% on those assignments and even some extra credit, so the only thing in the way are the exams. Be sure to understand the concepts and you'll do fine. 5.0 4.0 \n\nCS61B\nIf you can take this class, do it 4.0 4.0 \n\nCS61A\nOverall I liked him but the tests and projects are annoying. They are fill in the blank instead of coding something from scratch. His lectures are good but sometimes I feel like he goes really in depth in order to distinguish people on tests instead of teaching more useful material. Look at last problem on MT2 F2016. Study more than hw and labs. 5.0 4.0 \n\nCS61A\nGreat lecturer, funny, informative, his style makes everyone laugh. Might be tricky to catch in office hours; his office gets pretty crowded. 5.0 4.0 \n\nCS61A\nThis class affirmed my decision to pursue CS! I loved DeNero's lectures and enjoyed doing the homeworks and projects. The class was an interesting experience, though I'll warn that it is fast-paced. 5.0 3.0 \n\nCS61A\nOne of the best teachers I've ever had - a great lecturer, accessible via office hours or email, well-paced syllabus, and funny to boot. Would highly recommend taking a class with him! 4.0 5.0 \n\nCS61A\nKnow that CS61A will likely become your 1st priority unless taken P/NP. It's time-consuming & just plain hard for people without programming experience (expect 20+ hrs/wk), but doable and very interesting, and his lectures and course design are what make it work. So don't take it with another hard and unrelated class. Like an MCB upperdiv. haha fml 5.0 4.0 \n\nCS61A\nIt is possible to do well in this class. Professor DeNero is a great teacher and he provides the resources to succeed in his class, you just have to work hard and study. It is pretty helpful to have prior programming experience, but if you put in the work, you don't have to. Great class and great professor. 5.0 4.0 \n\n61A\nThe class is very well-organized, but it covers a lot of content (prior programming experience is almost necessary). Also, exams are require you to think outside the box and test things that you may not have thought of. Professor DeNero is very knowledgeable, explains difficult concepts well, is an engaging lecturer, and makes a large class work. 5.0 5.0 \n\nCS61A\nNot as good as hug but still a great CS prof 5.0 2.0 \n\nCS61A\nProfessor DeNero is incredibly friendly, accessible and inspirational. Even though his course will make you work reasonably hard, if you put in the time and effort, you can get a high score on his exams. 5.0 3.0 \n\n61A\nJohn DeNero is a great lecturer and teacher. He explains things clearly, with the occasional joke. The midterms are hard. 5.0 4.0 \n\n61A\nSuch an amazing professor, I love his class even though it's pretty challenging for me. Provides a ton of support and the projects are super fun! He's also a funny guy and gis lectures aren't boring at all, so that's a plus! 5.0 4.0 \n\nCS61A\nDefinitely the best teacher I've had at Cal. He was organized, entertaining, and obviously cares a lot about his students. His class was a blast and made me want to be a CS major. 4.5 3.0 \n\n61A\nGreat professor. The class isn't an easy A and the exams do require a great deal of studying, but you learn a lot from the course. 5.0 4.0 \n\nCS61A\nHe's great at making the class interesting and really trying to spark the interests of his students. He also genuinely cares about each individual student despite having more than 1000 to deal with. His lectures are informative as well as funny, and he doesn't overload you with work. It's a hard class, but he tries to get you the support you need. 5.0 1.0 \n\nCS61A\nHe is AMAZING! Everything you could want in a professor :)  Him and his army of TAs really made this 1400-person class work. 4.0 4.0 \n\nCS61A\nSimply Amazing. Funny. Clear. Tall. The class starts out very easy but picks up waaay too fast and the second midterm and final killed me. 4.5 3.0 \n\nCS61A\nAmazing professor, cannot be easy to teach a class of this size, and you won't get any face time with Denero. Nonetheless, you come out of this class, changed. 5.0 4.0 \n\nCS61A\nLegend. Immortal. Amazing. God. Life-changer.   Even if you end up failing the class, you won't regret taking CS61A. Why? Because of DeNero. He's a gem. Seeing him outside is like seeing a celebrity. I hope he keeps on teaching CS61A. 3.0 5.0 \n\nCS61A\nThe tests are hard.  3.5 4.0 \n\nCS61A\nDeNero is a great professor! He makes a conscious effort to make sure students are succeeding in his classes. He is super willing to help and will help student with trivial problems like internet connection issues. He makes what would be an impossible course simply difficult. Would recommend 61A to students from all majors, definitely memorable!  4.5 4.0 \n\nCS61A\nOne of the best cs professors you could take at Berkeley. I don't enjoy programming, but his enthusiasm for the subject makes this class fun and interesting. He's also understanding of the fact that this is a hard class with a heavy course load. He doesn't like seeing students do poorly and he'll help you if you ask for it.  4.5 3.0 \n\nCS61A\nDeNero is to this day the most inspirational and wonderful lecturer whose class I have had the privilege of experiencing. He is so understanding and helpful. 10/10 recommend any class with him. 5.0 3.0 \n\nCS61A\nDeNero really works for his students, and is one of the best lecturers I've ever seen.  5.0 2.0 \n\nCS61A\nAwesome class, nicely structured, and very organized. He's got an amazing sense of humor and you can tell he really cares about the subject. Compsci is not an easy topic (Berkeley CS is a hard dose of reality for a lot of normally good students) but you will walk away learning something. 5.0 4.0 \n\nCS61A\nDeNero is one of the most amazing professors ever! He's really good at explaining difficult material. I came in to this class with no previous coding experience and since the class was very hard I constantly thought about dropping, but I stayed because of DeNero. He and the course staff work really hard to provide resources for struggling students. 5.0 4.0 \n\nCS61A\nDenero is an absolute gem. This is my first time coding and I am having so much fun with it because his lectures are amazing and the assignments are incredibly well-crafted. He is the best teacher I have ever had 5.0 3.0 \n\nCS61A\nHeaven on a Professor. 4.5 3.0 \n\nCS61A\nBest professor for intro CS. Could be the best professor I've ever had. I became a TA for this class in large part due to him personally. If you're here you probably are already planning to take this class, but if you're not sure yet: take this class. One note: go to his office hours. For a 1000 student class, they're somehow always empty. 5.0 3.0 \n\nCS61A\nCS61A was an incredible class. There were over 900 people enrolled, but I had more opportunities for personal assistance than in any of my smaller classes. John is an awesome professor - fun, interesting, and helpful. His online videos are very clear and precise (more so than any professor's physical lectures). Definitely would recommend. 5.0 3.0 \n\nCS61A\nBest person you could ask for your first CS class at Cal. Expect to spend a lot of time on projects and homework and studying for tests, but GO TO OFFICE HOURS. The TAs are very helpful, remember that you're not alone on this. I've gone to every lecture, you can watch the videos online but live lectures are great. Hilarious and answers questions 5.0 4.0 \n\nCS61A\nBruh this dude more fire than my mixtape. 5.0 3.0 \n\nCS61A\nThere are 3 times in life I felt so bad about losing someone. The first time is when my ex-girlfriend left me and went to another city. Second  is when I stepped into the airport after visiting a good friend who I couldn't see for years . Third time is on Prof. John DeNero's last lecture.  5.0 1.0 \n\nCS61A\nJohn really cares about his students. Teaching the biggest class on campus, he really makes an effort to make sure each individual gets the attention they need. He is a great lecturer and he tells you NOT to come to lecture and to just watch the webcasts. Amazing. Perfect guy for students' first CS prof when they come to Berkeley. 5.0 3.0 \n\nCS61A\nI've never rated a professor before, but, like Yeezus, this man is a god. 5.0 5.0 \n\nCS61A\nSimply amazing. 5.0 1.0 \n\nCS61A\nOMG He is my fav prof. I believe everyone who has taken cs61a with him would LOVE computer science. 5.0 3.0 \n\nCS61A\nGreat professor. Great class. Take it. 4.0 4.0 \n\nCS61A\nDenero is an amazing professor. His online video lectures are far better than live lecture. However, learning in this class really comes from surviving the constant inundation of homework, quizzes and projects. Doing previous exams are essential for success on his exams.   5.0 4.0 \n\nCS61A\nI felt blessed to have taken this course. I barely had any programming experience before and DeNero simply guided me through. His webcast lecture was probably the clearest I have ever seen. Homework and Discussion handout were helpful. The first midterm was fair but the second midterm kind of shocked us all but he was quick to react and adjust.  4.5 4.0 \n\nCS61A\nHomework is graded based on effort, Labs and Discussions are only worth points if you are literally killed by the test, and tests can be hard. DeNero is ridiculously smart and a great lecturer and I enjoyed the class. Put in the time (DO THE DISCUSSIONS) and you won't be sorry.  2.5 5.0 \n\nCS61A\nI don't know I was pretty hyped for his class but when I took it he really wasn't that great. Maybe because of the huge class size? I began to love CS because of the way I was self motivated to learn in the class, but do not expect him to be very helpful. Very confusing lectures and does not lead into new concepts very well. 5.0 4.0 \n\nCS61A\nDenero is amazing. His lectures are very helpful and he keeps them interesting and fun. Lectures are most commonly viewed online, which is also helpful. You'll definitely learn a lot in this class and help is readily available via office hours and online resources. On the other hand, the work load for this class is large that the exams are tough. 5.0 4.0 \n\nCS61A\nJohn Denero is fantastic. He is loved by students.  His (massive) course is extremely well organized. Most of his homework and projects are useful. Lecture videos are posted online, and are very good. Biggest downside is that it's a hard course. I came in with a lot of prior experience and did fine, but I still had to study and practice quite a bit 5.0 3.0 \n\nCS61A\nCS 61A is a difficult class, but professor Denero's humor and enthusiasm made it much bearable. He is an inspiring lecturer and you can tell he really cares about his students. 1.0 4.0 \n\nCS61A\nHe's pretty bad. Avoid at all costs! 4.0 3.0 \n\nCS61A\nDeNero is a great teacher for 61A. It was a fun class and he taught us python well. Didn't like Logic but he made python a joy to learn. 5.0 3.0 \n\nCS61A\nBest teacher ever! I went into the course without any programming experience and so far he's made the material extremely accessible. He's a super nice and chill guy as well, go check out his office hours and hang out with him, or if you have questions about NLP or even industry vs academia, DeNero is your guy 1.0 5.0 \n\nCS61A\nHe's pretty bad. 5.0 3.0 \n\nCS61A\nJohn DeNero was incredibly clear, and he was a fantastic lecturer, especially considering that over 900 students took CS61A in Fall 2013. All of the lectures were filmed in advance, so it was not even necessary to go to lecture. He genuinely cares about all of his students. However, the class itself is quite challenging. 5.0 3.0 \n\nCS61A\nFantastic online presentation, fantastic lecturer, has WONDERFUL TAs, really know howto organize and present concepts and got me into coding! I'm really glad my major requires this class, and am grateful to have taken this class and learned so much from him! That said, no programming experience makes this class very painful, especially projects. 5.0 2.0 \n\nCS61A\nDeNero is an awesome lecturer and really makes all the content easy to read and understand. But don't think you can just skip lectures and not study. 5.0 3.0 \n\nCS61A\nJohn Denero's lectures, materials, and assignments, and course as a whole could be best described as an unparalleled masterwork of education. Simply put, this guy can turn any willing human being into a computer scientist. Flawless educator. 5.0 2.0 \n\nCS61A\nJohn explains everything in a way that the course material just clicked in place. Came in with negligible programming experience and ended up with an A+ in this class. He gives lots of chances to pass this class and earn points (including extra credit). Favorite class ever! 5.0 3.0 \n\nCS61A\nFantastic class and great professor! Very clear and organized. I think the best part about this class is even though it is formally an intro course, even experienced programmers will learn and find his class interesting by focusing on the programming mindset and problem solving skills necessary to be successful in CS. Strongly recommend this class! 5.0 4.0 \n\nCS61A\nPhenomenal teacher--lecture is clear, tests are challenging but not impossible, class is super-structured and organized, and it's obvious he enjoys what he does 5.0 5.0 \n\nCS61A\nJohn is a God! Great teacher and so passionate! One of the clearest lecturers ever! Loves Computer Science and you can tell he loves to teach. Projects and homework are doable. Very hard class(tests especially) if you're knew to coding but hard work pays off... 5.0 3.0 \n\nCS61A\nGreat professor, very articulate. And nice guy as well! 5.0 3.0 \n\nCS61A\nBest Professor I've Ever Had, and will always be one of the greatest. 5.0 1.0 \n\nCS61A\nOne of the best professors I've had at Cal, and the reason I'm majoring in CS. Even with 1000 students, he found a way to make it work. 5.0 4.0 \n\nCS61A\nBrilliant teacher. Really knows what he is talking about. Lectures are funny and very informative. Homework and projects are challenging but so worth it. Hands down, one of the best teachers I've seen. Ever. 5.0 2.0 \n\n61A\nQuite possibly the best professor I've ever had. He's a nice guy who's always interesting. His exams are difficult but fair. The projects are fun, and you learn a lot. Take this class. You'll be glad you did. 5.0 1.0 \n\nCS61A\nGreat professor. 4.5 3.0 \n\nCS61A\nVery good lecturer, and he obviously put a lot of time and effort into his class. He provides many programming resources for his students, most of which he built/co-built himself. Excellent and interesting projects. Maybe it's just me but his tests were difficult though. 5.0 2.0 \n\nCS61A\nhands down one of the most badass, entertaining, clear professors out there, amazing way to start off eecs. As a google executive who works on translate, he sometimes provides great snippets about his own work and how programming relates. Brings in amazing demos like the smule band. If you get the chance, take him, you won't regret it 5.0 1.0 \n\nCS11\nGreat Instructor 5.0 3.0 \n\nCS61A\nBy far the best professor I have this year. His teaching style is very clear and easy to follow, and he knows how to keep you engaged. Everyone applauds at the end of his lectures. 5.0 4.0 \n\nCS61A\nBy far the best professor I've had.  He is full of enthusiasm.  I learned so much from his class. 5.0 4.0 \n\nCS61A\nGreat class, great professor, and a great intro to how tough EECS is without being excessive. 5.0 1.0 \n\nCS113\nWonderful professor. Very helpful - the material was challenging, but doable. John made class enjoyable. 5.0 3.0 \n\nCS61A\nMy favorite class this year by far. Lectures are interesting, fun, and very knowledge filled. During lecture, I manage to actually laugh at least once, this guy actually has a sense of humor. Loving my TA as well, Eric Tzeng. The tests so far have been tricky but fair. 5.0 1.0 \n\nCS011\nGreat lecturer, funny, and gets constant applause. 5.0 3.0 \n\nCS61A\nIt is the first time I use ratemyprofessor! He, the guy named John DeNero, is awesome. That is it. 5.0 2.0 \n\nCS61A\nAwesome professor, has a very fun sense of humor and lectures are usually pretty interesting. He he very open to suggestions and answers questions very thoughtfully. He keeps everything online for easy access, and his exams to some degree are fairly challenging but definitely doable. The projects are really fun and have practical use. 10/10 4.0 3.0 \n\nAverage rating under filters: 4.628205128205129 \nAverage difficulty under filters: 3.4188034188034186\nMax/min rating under filters: 5.0, 1.0 \nMax/min difficulty under filters: 5.0, 1.0\n"
    }
   ],
   "source": [
    "average_rating, average_difficulty, index, ratings_list, difficulties_list = 0, 0, 0, [], [] #by course wanted for if filter_type true\n",
    "#average ratings and difficulties will be calculated at the end for relevant courses \n",
    "if filter_type: #because the other option was \"\" #some implicit booleanness\n",
    "    for name, review, rating, difficulty in zip(names, reviews, ratings, difficulties):\n",
    "        print(name)\n",
    "        if any([name in course for course in courses_wanted]):\n",
    "     #   if name in courses_wanted:# or name[len(name)-3:] in [course[len(course)-3:] for course in courses_wanted]:# or name[len(name)-2:] in [course[len(course)-2:] for course in courses_wanted]:\n",
    "            print(review, rating, difficulty, '\\n')\n",
    "            ratings_list.append(rating)\n",
    "            difficulties_list.append(difficulty)\n",
    "            average_rating += float(rating)\n",
    "            average_difficulty += float(difficulty)\n",
    "            index +=1\n",
    "else: #for filtering out classes\n",
    "    course, filtered = input(\"enter the course number(s) of the classes that you would NOT like to see. Press enter on blank when you're complete: \"), []\n",
    "    while course:\n",
    "        filtered.append(course.upper())\n",
    "        course = input(\"enter the course number(s) of the classes that you would NOT like to see. Press enter on blank when you're complete: \" )\n",
    "    for name, review, rating, difficulty in zip(names, reviews, ratings, difficulties):\n",
    "        print(name)\n",
    "        if not any([name in course for course in filtered]):# i.e. class should NOT be CS61A filtered\n",
    "            print(review, rating, difficulty, '\\n')\n",
    "            ratings_list.append(rating)\n",
    "            difficulties_list.append(difficulty)\n",
    "            average_rating += float(rating)\n",
    "            average_difficulty += float(difficulty)\n",
    "            index +=1    \n",
    "try:\n",
    "    print(\"Average rating under filters: {} \\nAverage difficulty under filters: {}\".format(average_rating/index, average_difficulty/index))\n",
    "    print(\"Max/min rating under filters: {}, {} \\nMax/min difficulty under filters: {}, {}\".format(max(ratings_list), min(ratings_list), max(difficulties_list), min(difficulties_list)))\n",
    "except ZeroDivisionError:\n",
    "    pass"
   ]
  },
  {
   "cell_type": "code",
   "execution_count": 47,
   "metadata": {},
   "outputs": [],
   "source": [
    "#more data\n",
    "#here i could put highest and lowest rating/review associated with it, average rating for specific classes"
   ]
  },
  {
   "cell_type": "code",
   "execution_count": 48,
   "metadata": {},
   "outputs": [
    {
     "output_type": "execute_result",
     "data": {
      "text/plain": "(117, 118, 117, 117)"
     },
     "metadata": {},
     "execution_count": 48
    }
   ],
   "source": [
    "len(names), len(reviews), len(ratings), len(difficulties)"
   ]
  },
  {
   "cell_type": "code",
   "execution_count": 49,
   "metadata": {},
   "outputs": [
    {
     "output_type": "execute_result",
     "data": {
      "text/plain": "'body'"
     },
     "metadata": {},
     "execution_count": 49
    }
   ],
   "source": [
    "css_soup = bs('<p id=\"body\"></p>')\n",
    "css_soup.p['id']"
   ]
  },
  {
   "cell_type": "code",
   "execution_count": 50,
   "metadata": {},
   "outputs": [
    {
     "output_type": "error",
     "ename": "KeyError",
     "evalue": "'John explains everything in a way that the course material just clicked in place. Came in with negligible programming experience and ended up with an A+ in this class. He gives lots of chances to pass this class and earn points (including extra credit). Favorite class ever!'",
     "traceback": [
      "\u001b[0;31m---------------------------------------------------------------------------\u001b[0m",
      "\u001b[0;31mKeyError\u001b[0m                                  Traceback (most recent call last)",
      "\u001b[0;32m<ipython-input-50-eebd41ee4a69>\u001b[0m in \u001b[0;36m<module>\u001b[0;34m\u001b[0m\n\u001b[1;32m      3\u001b[0m \u001b[0mletterz\u001b[0m\u001b[0;34m,\u001b[0m\u001b[0mgradesss\u001b[0m \u001b[0;34m=\u001b[0m \u001b[0mprofessor_soup\u001b[0m\u001b[0;34m.\u001b[0m\u001b[0mfind_all\u001b[0m\u001b[0;34m(\u001b[0m\u001b[0mstring\u001b[0m \u001b[0;34m=\u001b[0m \u001b[0mfilter_by_grades\u001b[0m\u001b[0;34m)\u001b[0m\u001b[0;34m,\u001b[0m \u001b[0;34m[\u001b[0m\u001b[0;34m]\u001b[0m\u001b[0;34m\u001b[0m\u001b[0;34m\u001b[0m\u001b[0m\n\u001b[1;32m      4\u001b[0m \u001b[0;32mfor\u001b[0m \u001b[0mletter\u001b[0m \u001b[0;32min\u001b[0m \u001b[0mletterz\u001b[0m\u001b[0;34m:\u001b[0m\u001b[0;34m\u001b[0m\u001b[0;34m\u001b[0m\u001b[0m\n\u001b[0;32m----> 5\u001b[0;31m     \u001b[0mgradesss\u001b[0m\u001b[0;34m.\u001b[0m\u001b[0mappend\u001b[0m\u001b[0;34m(\u001b[0m\u001b[0mgrade_to_number\u001b[0m\u001b[0;34m(\u001b[0m\u001b[0mletter\u001b[0m\u001b[0;34m)\u001b[0m\u001b[0;34m)\u001b[0m\u001b[0;34m\u001b[0m\u001b[0;34m\u001b[0m\u001b[0m\n\u001b[0m\u001b[1;32m      6\u001b[0m \u001b[0mgradesss\u001b[0m\u001b[0;34m,\u001b[0m \u001b[0maverage_grade\u001b[0m\u001b[0;34m(\u001b[0m\u001b[0mgradesss\u001b[0m\u001b[0;34m)\u001b[0m\u001b[0;34m\u001b[0m\u001b[0;34m\u001b[0m\u001b[0m\n",
      "\u001b[0;32m<ipython-input-40-5011327dd0c2>\u001b[0m in \u001b[0;36mgrade_to_number\u001b[0;34m(letter)\u001b[0m\n\u001b[1;32m     57\u001b[0m     \u001b[0;32mif\u001b[0m \u001b[0mletter\u001b[0m \u001b[0;34m==\u001b[0m \u001b[0;34m\"A+\"\u001b[0m\u001b[0;34m:\u001b[0m \u001b[0;31m#this is not really right but it's fine, there's no difference between the two\u001b[0m\u001b[0;34m\u001b[0m\u001b[0;34m\u001b[0m\u001b[0m\n\u001b[1;32m     58\u001b[0m         \u001b[0mletter\u001b[0m \u001b[0;34m=\u001b[0m \u001b[0;34m\"A\"\u001b[0m\u001b[0;34m\u001b[0m\u001b[0;34m\u001b[0m\u001b[0m\n\u001b[0;32m---> 59\u001b[0;31m     \u001b[0;32mreturn\u001b[0m \u001b[0mreversed_scale\u001b[0m\u001b[0;34m[\u001b[0m\u001b[0mletter\u001b[0m\u001b[0;34m]\u001b[0m\u001b[0;34m\u001b[0m\u001b[0;34m\u001b[0m\u001b[0m\n\u001b[0m",
      "\u001b[0;31mKeyError\u001b[0m: 'John explains everything in a way that the course material just clicked in place. Came in with negligible programming experience and ended up with an A+ in this class. He gives lots of chances to pass this class and earn points (including extra credit). Favorite class ever!'"
     ]
    }
   ],
   "source": [
    "def filter_by_grades(thing):\n",
    "    return any([s.lower() in [\"a+\", \"b-\",\"b+\" ] for s in thing.split()]) \n",
    "letterz,gradesss = professor_soup.find_all(string = filter_by_grades), []\n",
    "for letter in letterz:\n",
    "    gradesss.append(grade_to_number(letter))\n",
    "gradesss, average_grade(gradesss)"
   ]
  },
  {
   "cell_type": "code",
   "execution_count": null,
   "metadata": {},
   "outputs": [],
   "source": []
  }
 ],
 "metadata": {
  "kernelspec": {
   "display_name": "Python 3.7.7 64-bit",
   "language": "python",
   "name": "python37764bit9116bce4fff348a9a316854dbc49d73a"
  }
 },
 "nbformat": 4,
 "nbformat_minor": 2
}